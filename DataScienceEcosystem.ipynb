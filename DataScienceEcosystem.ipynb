{
  "metadata": {
    "language_info": {
      "codemirror_mode": {
        "name": "python",
        "version": 3
      },
      "file_extension": ".py",
      "mimetype": "text/x-python",
      "name": "python",
      "nbconvert_exporter": "python",
      "pygments_lexer": "ipython3",
      "version": "3.8"
    },
    "kernelspec": {
      "name": "python",
      "display_name": "Python (Pyodide)",
      "language": "python"
    }
  },
  "nbformat_minor": 4,
  "nbformat": 4,
  "cells": [
    {
      "cell_type": "markdown",
      "source": "Data Science Tools and Ecosystem",
      "metadata": {}
    },
    {
      "cell_type": "markdown",
      "source": "In this notebook we will have a summary about DS tools and Ecosystems ",
      "metadata": {}
    },
    {
      "cell_type": "markdown",
      "source": "Some of the most popular languages that Data Scientints use are:\n1. Python\n2. R language\n3. Java",
      "metadata": {}
    },
    {
      "cell_type": "markdown",
      "source": "Some of the common libraries for DS are:\n1. Numpy\n2. Pandas\n3. Seaborn",
      "metadata": {}
    },
    {
      "cell_type": "markdown",
      "source": "| DS TOOLS | \n| -------------| \n| Google BigQuery |\n| Power BI |\n| Microsoft Azure |",
      "metadata": {}
    },
    {
      "cell_type": "markdown",
      "source": "### Also, you can find below a few examples of arithmetic expressions in Python:\n\n5 + 5 = 10\n\n2 * 4 = 8\n\n",
      "metadata": {}
    },
    {
      "cell_type": "code",
      "source": "(3*4)+5\n\n #This a simple arithmetic expression to mutiply then add integers",
      "metadata": {
        "trusted": true
      },
      "execution_count": 9,
      "outputs": [
        {
          "execution_count": 13,
          "output_type": "execute_result",
          "data": {
            "text/plain": "17"
          },
          "metadata": {}
        }
      ]
    },
    {
      "cell_type": "code",
      "source": "Minutes = 200\n\nHours = Minutes /60\n\nprint(Hours)\n\n\n#This will convert 200 minutes to hours by diving by 60\n",
      "metadata": {
        "trusted": true
      },
      "execution_count": 12,
      "outputs": [
        {
          "name": "stdout",
          "text": "3.3333333333333335\n",
          "output_type": "stream"
        }
      ]
    },
    {
      "cell_type": "markdown",
      "source": "**Objectives:**\n\n- List popular languages on Data Science\n\n- Learn how to create a Notebook\n\n- Apply general concepts from Python",
      "metadata": {}
    },
    {
      "cell_type": "markdown",
      "source": "Author\n\n## Cristofer Villaran ##",
      "metadata": {}
    },
    {
      "cell_type": "code",
      "source": "",
      "metadata": {},
      "execution_count": null,
      "outputs": []
    }
  ]
}